{
 "cells": [
  {
   "cell_type": "markdown",
   "metadata": {},
   "source": [
    "Install sqlite3-kernel (https://github.com/brownan/sqlite3-kernel) first\n",
    "\n",
    "# Build My Own SQLite Database"
   ]
  },
  {
   "cell_type": "code",
   "execution_count": 1,
   "metadata": {},
   "outputs": [
    {
     "name": "stdout",
     "output_type": "stream",
     "text": []
    }
   ],
   "source": [
    ".headers ON"
   ]
  },
  {
   "cell_type": "code",
   "execution_count": 2,
   "metadata": {},
   "outputs": [
    {
     "name": "stdout",
     "output_type": "stream",
     "text": []
    }
   ],
   "source": [
    ".open /mnt/g/Desktop/git/public/Paleomagnetic_Data_from_Chinese_Literature/PMDBcn.db\n",
    "-- mdb-schema /home/i/Downloads/GD2016a.MDB sqlite"
   ]
  },
  {
   "cell_type": "code",
   "execution_count": 11,
   "metadata": {},
   "outputs": [
    {
     "name": "stdout",
     "output_type": "stream",
     "text": []
    }
   ],
   "source": [
    "DROP TABLE REFERENCE;"
   ]
  },
  {
   "cell_type": "code",
   "execution_count": 14,
   "metadata": {},
   "outputs": [
    {
     "name": "stdout",
     "output_type": "stream",
     "text": []
    }
   ],
   "source": [
    "CREATE TABLE PMAGRESULT (\n",
    "  ROCKUNITNO INTEGER,\n",
    "  RESULTNO INTEGER,\n",
    "  LOMAGAGE INTEGER,\n",
    "  HIMAGAGE INTEGER,\n",
    "  TESTS varchar,\n",
    "  TILT INTEGER,\n",
    "  SLAT REAL,\n",
    "  SLONG REAL,\n",
    "  B INTEGER,\n",
    "  N INTEGER,\n",
    "  DEC REAL,\n",
    "  INC REAL,\n",
    "  KD REAL,\n",
    "  ED95 REAL,\n",
    "  PLAT REAL,\n",
    "  PLONG REAL,\n",
    "  PTYPE varchar,\n",
    "  DP REAL,\n",
    "  DM REAL,\n",
    "  NOREVERSED varchar,\n",
    "  ANTIPODAL REAL,\n",
    "  N_NORM INTEGER,\n",
    "  D_NORM REAL,\n",
    "  I_NORM REAL,\n",
    "  K_NORM REAL,\n",
    "  ED_NORM REAL,\n",
    "  N_REV INTEGER,\n",
    "  D_REV REAL,\n",
    "  I_REV REAL,\n",
    "  K_REV REAL,\n",
    "  ED_REV REAL,\n",
    "  DEMAGCODE INTEGER,\n",
    "  TREATMENT varchar,\n",
    "  LABDETAILS varchar,\n",
    "  ROCKMAG varchar,\n",
    "  N_TILT INTEGER,\n",
    "  D_UNCOR REAL,\n",
    "  I_UNCOR REAL,\n",
    "  K1 REAL,\n",
    "  ED1 REAL,\n",
    "  D_COR REAL,\n",
    "  I_COR REAL,\n",
    "  K2 REAL,\n",
    "  ED2 REAL,\n",
    "  COMPONENT varchar,\n",
    "  COMMENTS varchar,\n",
    "  STATUS varchar\n",
    ");"
   ]
  },
  {
   "cell_type": "code",
   "execution_count": 13,
   "metadata": {},
   "outputs": [
    {
     "name": "stdout",
     "output_type": "stream",
     "text": []
    }
   ],
   "source": [
    "CREATE TABLE REFERENCE (\n",
    "  REFNO INTEGER,\n",
    "  AUTHORS varchar,\n",
    "  AUTHORS_cn varchar,\n",
    "  YEAR INTEGER,\n",
    "  VOLUME varchar,\n",
    "  TITLE varchar,\n",
    "  TITLE_cn varchar,\n",
    "  REMARKS varchar,\n",
    "  VPAGES varchar,\n",
    "  JOURNAL varchar,\n",
    "  JOURNAL_cn varchar\n",
    ");"
   ]
  },
  {
   "cell_type": "code",
   "execution_count": 4,
   "metadata": {},
   "outputs": [
    {
     "name": "stdout",
     "output_type": "stream",
     "text": []
    }
   ],
   "source": [
    "CREATE TABLE TERRANE (\n",
    "  CONTINENT varchar,\n",
    "  TERRANE varchar\n",
    ");"
   ]
  },
  {
   "cell_type": "code",
   "execution_count": 3,
   "metadata": {},
   "outputs": [
    {
     "name": "stdout",
     "output_type": "stream",
     "text": []
    }
   ],
   "source": [
    "CREATE TABLE ROCKUNIT (\n",
    "  REFNO INTEGER,\n",
    "  ROCKUNITNO INTEGER,\n",
    "  ROCKNAME varchar,\n",
    "  PLACE varchar,\n",
    "  CONTINENT varchar,\n",
    "  TERRANE varchar,\n",
    "  RLAT REAL,\n",
    "  RLONG REAL,\n",
    "  ROCKTYPE varchar,\n",
    "  STRATA varchar,\n",
    "  STRATAGE varchar,\n",
    "  LATSPREAD varchar,\n",
    "  LOWAGE INTEGER,\n",
    "  HIGHAGE INTEGER,\n",
    "  METHOD varchar,\n",
    "  STATUS varchar,\n",
    "  ISOTOPEDATA varchar,\n",
    "  STRUCTURE varchar\n",
    ");"
   ]
  },
  {
   "cell_type": "code",
   "execution_count": 3,
   "metadata": {},
   "outputs": [
    {
     "name": "stdout",
     "output_type": "stream",
     "text": []
    }
   ],
   "source": [
    "CREATE TABLE ALTRESULT (\n",
    "  RESULTNO INTEGER,\n",
    "  APLAT REAL,\n",
    "  APLONG REAL,\n",
    "  KP REAL,\n",
    "  EP95 REAL\n",
    ");"
   ]
  },
  {
   "cell_type": "code",
   "execution_count": 3,
   "metadata": {},
   "outputs": [
    {
     "name": "stdout",
     "output_type": "stream",
     "text": [
      "ALTRESULT   PMAGRESULT  REFERENCE   ROCKUNIT    TERRANE   \r\n"
     ]
    }
   ],
   "source": [
    ".tables"
   ]
  },
  {
   "cell_type": "code",
   "execution_count": 4,
   "metadata": {},
   "outputs": [
    {
     "name": "stdout",
     "output_type": "stream",
     "text": [
      "ROCKUNITNO|RESULTNO|LOMAGAGE|HIMAGAGE|TESTS|TILT|SLAT|SLONG|B|N|DEC|INC|KD|ED95|PLAT|PLONG|PTYPE|DP|DM|NOREVERSED|ANTIPODAL|N_NORM|D_NORM|I_NORM|K_NORM|ED_NORM|N_REV|D_REV|I_REV|K_REV|ED_REV|DEMAGCODE|TREATMENT|LABDETAILS|ROCKMAG|N_TILT|D_UNCOR|I_UNCOR|K1|ED1|D_COR|I_COR|K2|ED2|STATUS|COMPONENT|COMMENTS\r\n",
      "||||||41.0|79.4|||||||62.8|-168.5|||||||||||||||||||||||||||||||\r\n",
      "||||||40.6|79.5|||||||56.0|177.2|||||||||||||||||||||||||||||||\r\n",
      "REFNO|AUTHORS|AUTHORS_cn|YEAR|VOLUME|TITLE|TITLE_cn|REMARKS|VPAGES|JOURNAL|JOURNAL_cn\r\n",
      "860001|Cheng, G. L., Bai, Y. H., Li, Y. A.|程国良, 白云虹, 李永安|1983|5|Palaeomagnetism of Lower Permian in the Wushi-Aksu area of Xinjiang|新疆乌什-阿克苏地区下二叠统地层的古地磁研究||12|Seismology and Geology|地震地质\r\n",
      "860002|Fang, D. J., Jin, G. H., Chen, H. L., Wu, N., Y.|方大钧, 金国海, 陈汉林, 吴能友|1991||Preliminary approach to Late Paleozoic-Mesozoic geomagnetism and tectonic evolution in north margin of Tarim Plate|塔里木板块北缘晚古生代、中生代古地磁结果与构造演化的初步探讨||96-104||构造与油气\r\n"
     ]
    }
   ],
   "source": [
    "SELECT * FROM ALTRESULT;\n",
    "SELECT * FROM PMAGRESULT;\n",
    "SELECT * FROM REFERENCE;\n",
    "SELECT * FROM ROCKUNIT;\n",
    "SELECT * FROM TERRANE;"
   ]
  },
  {
   "cell_type": "markdown",
   "metadata": {},
   "source": [
    "# INSERT DATA"
   ]
  },
  {
   "cell_type": "code",
   "execution_count": 5,
   "metadata": {},
   "outputs": [
    {
     "name": "stdout",
     "output_type": "stream",
     "text": [
      "REFNO|AUTHORS|AUTHORS_cn|YEAR|VOLUME|TITLE|TITLE_cn|REMARKS|VPAGES|JOURNAL|JOURNAL_cn\r\n",
      "||程国良, 白云虹, 李永安|1983|||新疆乌什-阿克苏地区下二叠统地层的古地磁研究||||地震地质\r\n",
      "860001||程国良, 白云虹, 李永安|1983|||新疆乌什-阿克苏地区下二叠统地层的古地磁研究||||地震地质\r\n"
     ]
    }
   ],
   "source": [
    "INSERT INTO REFERENCE ( REFNO, AUTHORS_cn, YEAR, TITLE_cn, JOURNAL_cn )\n",
    "  VALUES ( 860001, '程国良, 白云虹, 李永安', 1983,\n",
    "           '新疆乌什-阿克苏地区下二叠统地层的古地磁研究', '地震地质' );"
   ]
  },
  {
   "cell_type": "code",
   "execution_count": 6,
   "metadata": {},
   "outputs": [
    {
     "name": "stdout",
     "output_type": "stream",
     "text": []
    }
   ],
   "source": [
    "INSERT INTO REFERENCE ( REFNO, AUTHORS_cn, YEAR, TITLE_cn, JOURNAL_cn )\n",
    "  VALUES ( 860002, '方大钧, 金国海, 陈汉林, ', 1991, '塔里木板块北缘晚古生代、中生代古地磁结果与构造演化的初步探讨', '构造与油气' );"
   ]
  },
  {
   "cell_type": "code",
   "execution_count": 7,
   "metadata": {},
   "outputs": [
    {
     "name": "stdout",
     "output_type": "stream",
     "text": [
      "REFNO|AUTHORS|AUTHORS_cn|YEAR|VOLUME|TITLE|TITLE_cn|REMARKS|VPAGES|JOURNAL|JOURNAL_cn\r\n",
      "860001||程国良, 白云虹, 李永安|1983|||新疆乌什-阿克苏地区下二叠统地层的古地磁研究||||地震地质\r\n"
     ]
    }
   ],
   "source": [
    "DELETE FROM REFERENCE WHERE REFNO IS NULL;"
   ]
  },
  {
   "cell_type": "code",
   "execution_count": 7,
   "metadata": {},
   "outputs": [
    {
     "name": "stdout",
     "output_type": "stream",
     "text": [
      "ROCKUNITNO|RESULTNO|LOMAGAGE|HIMAGAGE|TESTS|TILT|SLAT|SLONG|B|N|DEC|INC|KD|ED95|PLAT|PLONG|PTYPE|DP|DM|NOREVERSED|ANTIPODAL|N_NORM|D_NORM|I_NORM|K_NORM|ED_NORM|N_REV|D_REV|I_REV|K_REV|ED_REV|DEMAGCODE|TREATMENT|LABDETAILS|ROCKMAG|N_TILT|D_UNCOR|I_UNCOR|K1|ED1|D_COR|I_COR|K2|ED2|STATUS|COMPONENT|COMMENTS\r\n",
      "||||||41.0|79.4|||||||62.8|-168.5|||||||||||||||||||||||||||||||\r\n",
      "||||||41.0|79.4|||||||62.8|-168.5|||||||||||||||||||||||||||||||\r\n",
      "||||||40.6|79.5|||||||56.0|177.2|||||||||||||||||||||||||||||||\r\n"
     ]
    }
   ],
   "source": [
    "INSERT INTO PMAGRESULT (SLAT,SLONG,PLAT,PLONG)\n",
    "  VALUES (41,79.4,62.8,-168.5);\n",
    "INSERT INTO PMAGRESULT (SLAT,SLONG,PLAT,PLONG)\n",
    "  VALUES (40.6,79.5,56,177.2);"
   ]
  },
  {
   "cell_type": "code",
   "execution_count": 12,
   "metadata": {},
   "outputs": [
    {
     "name": "stdout",
     "output_type": "stream",
     "text": [
      "ROCKUNITNO|RESULTNO|LOMAGAGE|HIMAGAGE|TESTS|TILT|SLAT|SLONG|B|N|DEC|INC|KD|ED95|PLAT|PLONG|PTYPE|DP|DM|NOREVERSED|ANTIPODAL|N_NORM|D_NORM|I_NORM|K_NORM|ED_NORM|N_REV|D_REV|I_REV|K_REV|ED_REV|DEMAGCODE|TREATMENT|LABDETAILS|ROCKMAG|N_TILT|D_UNCOR|I_UNCOR|K1|ED1|D_COR|I_COR|K2|ED2|STATUS|COMPONENT|COMMENTS\r\n",
      "||||||41.0|79.4|||||||62.8|-168.5|||||||||||||||||||||||||||||||\r\n",
      "||||||40.6|79.5|||||||56.0|177.2|||||||||||||||||||||||||||||||\r\n"
     ]
    }
   ],
   "source": [
    "Delete from PMAGRESULT where rowid IN (Select rowid from PMAGRESULT limit 1); --delete the 1st row\n",
    "SELECT * FROM PMAGRESULT;"
   ]
  },
  {
   "cell_type": "code",
   "execution_count": 5,
   "metadata": {},
   "outputs": [
    {
     "name": "stdout",
     "output_type": "stream",
     "text": [
      "REFNO|AUTHORS|AUTHORS_cn|YEAR|VOLUME|TITLE|TITLE_cn|REMARKS|VPAGES|JOURNAL|JOURNAL_cn\r\n",
      "860001|Cheng, G. L., Bai, Y. H., Li, Y. A.|程国良, 白云虹, 李永安|1983|5|Palaeomagnetism of Lower Permian in the Wushi-Aksu area of Xinjiang|新疆乌什-阿克苏地区下二叠统地层的古地磁研究||12|Seismology and Geology|地震地质\r\n"
     ]
    }
   ],
   "source": [
    "UPDATE REFERENCE SET AUTHORS = 'Cheng, G. L., Bai, Y. H., Li, Y. A.',\n",
    "                     VOLUME = '5',\n",
    "                     TITLE = 'Palaeomagnetism of Lower Permian in the Wushi-Aksu area of Xinjiang',\n",
    "                     VPAGES = '12',\n",
    "                     JOURNAL = 'Seismology and Geology'\n",
    "  WHERE REFNO = 860001;\n",
    "SELECT * FROM REFERENCE;"
   ]
  },
  {
   "cell_type": "code",
   "execution_count": 7,
   "metadata": {},
   "outputs": [
    {
     "name": "stdout",
     "output_type": "stream",
     "text": []
    }
   ],
   "source": [
    "UPDATE REFERENCE SET AUTHORS_cn = '方大钧, 金国海, 陈汉林, 吴能友',\n",
    "                     AUTHORS = 'Fang, D. J., Jin, G. H., Chen, H. L., Wu, N., Y.',\n",
    "                     TITLE = 'Preliminary approach to Late Paleozoic-Mesozoic geomagnetism and tectonic evolution in north margin of Tarim Plate',\n",
    "                     VPAGES = '96-104'\n",
    "  WHERE REFNO = 860002;"
   ]
  },
  {
   "cell_type": "code",
   "execution_count": 4,
   "metadata": {},
   "outputs": [
    {
     "name": "stdout",
     "output_type": "stream",
     "text": [
      "ROCKUNITNO|RESULTNO|LOMAGAGE|HIMAGAGE|TESTS|TILT|SLAT|SLONG|B|N|DEC|INC|KD|ED95|PLAT|PLONG|PTYPE|DP|DM|NOREVERSED|ANTIPODAL|N_NORM|D_NORM|I_NORM|K_NORM|ED_NORM|N_REV|D_REV|I_REV|K_REV|ED_REV|DEMAGCODE|TREATMENT|LABDETAILS|ROCKMAG|N_TILT|D_UNCOR|I_UNCOR|K1|ED1|D_COR|I_COR|K2|ED2|STATUS|COMPONENT|COMMENTS\r\n",
      "||||||41.0|79.4|||||||62.8|-168.5|||||||||||||||||||||||||||||||\r\n"
     ]
    }
   ],
   "source": [
    "SELECT * FROM PMAGRESULT;"
   ]
  },
  {
   "cell_type": "code",
   "execution_count": 5,
   "metadata": {},
   "outputs": [
    {
     "name": "stdout",
     "output_type": "stream",
     "text": [
      "REFNO|AUTHORS|AUTHORS_cn|YEAR|VOLUME|TITLE|TITLE_cn|REMARKS|VPAGES|JOURNAL|JOURNAL_cn\r\n",
      "860001|Cheng, G. L., Bai, Y. H., Li, Y. A.|程国良, 白云虹, 李永安|1983|5|Palaeomagnetism of Lower Permian in the Wushi-Aksu area of Xinjiang|新疆乌什-阿克苏地区下二叠统地层的古地磁研究||12|Seismology and Geology|地震地质\r\n",
      "860002|Fang, D. J., Jin, G. H., Chen, H. L., Wu, N., Y.|方大钧, 金国海, 陈汉林, 吴能友|1991||Preliminary approach to Late Paleozoic-Mesozoic geomagnetism and tectonic evolution in north margin of Tarim Plate|塔里木板块北缘晚古生代、中生代古地磁结果与构造演化的初步探讨||96-104||构造与油气\r\n"
     ]
    }
   ],
   "source": [
    "SELECT * FROM REFERENCE;"
   ]
  },
  {
   "cell_type": "code",
   "execution_count": null,
   "metadata": {},
   "outputs": [],
   "source": [
    "CREATE TABLE `CONTINENTS`\n",
    " (\n",
    "\t`CONTINENT`\t\t\tvarchar\n",
    ");\n",
    "\n",
    "CREATE TABLE `COUNTRY`\n",
    " (\n",
    "\t`CONTINENT`\t\t\tvarchar, \n",
    "\t`COUNTRY`\t\t\tvarchar\n",
    ");\n",
    "\n",
    "CREATE TABLE `CROSSREF`\n",
    " (\n",
    "\t`RESULTNO`\t\t\tINTEGER, \n",
    "\t`CATNO`\t\t\tvarchar\n",
    ");\n",
    "\n",
    "CREATE TABLE `FIELDTESTS`\n",
    " (\n",
    "\t`RESULTNO`\t\t\tINTEGER, \n",
    "\t`TESTTYPE`\t\t\tvarchar, \n",
    "\t`PARAMETERS`\t\t\tvarchar, \n",
    "\t`SIGNIFICANCE`\t\t\tvarchar\n",
    ");\n",
    "\n",
    "CREATE TABLE `INFORMATION`\n",
    " (\n",
    "\t`SYMBOL`\t\t\tvarchar, \n",
    "\t`EXPLANATION`\t\t\tvarchar\n",
    ");\n",
    "\n",
    "CREATE TABLE `JOURNAL`\n",
    " (\n",
    "\t`ABBREVIATION`\t\t\tvarchar, \n",
    "\t`FULLNAME`\t\t\tvarchar\n",
    ");\n",
    "\n",
    "CREATE TABLE `SUMMARY`\n",
    " (\n",
    "\t`SLAT`\t\t\tREAL, \n",
    "\t`SLONG`\t\t\tREAL, \n",
    "\t`LOMAGAGE`\t\t\tINTEGER, \n",
    "\t`HIMAGAGE`\t\t\tINTEGER, \n",
    "\t`TESTS`\t\t\tvarchar, \n",
    "\t`DEMAGCODE`\t\t\tINTEGER, \n",
    "\t`B`\t\t\tINTEGER, \n",
    "\t`N`\t\t\tINTEGER, \n",
    "\t`KD`\t\t\tREAL, \n",
    "\t`ED95`\t\t\tREAL, \n",
    "\t`PLAT`\t\t\tREAL, \n",
    "\t`PLONG`\t\t\tREAL, \n",
    "\t`DP`\t\t\tREAL, \n",
    "\t`DM`\t\t\tREAL\n",
    ");\n",
    "\n",
    "CREATE TABLE `VERSION`\n",
    " (\n",
    "\t`NO`\t\t\tvarchar, \n",
    "\t`MONTH_YEAR`\t\t\tvarchar, \n",
    "\t`DATA`\t\t\tvarchar, \n",
    "\t`COMMENTS`\t\t\tvarchar\n",
    ");\n",
    "\n",
    "CREATE TABLE `Paste Errors`\n",
    " (\n",
    "\t`Field0`\t\t\tTEXT\n",
    ");\n",
    "\n",
    "CREATE TABLE `TIMESCALE`\n",
    " (\n",
    "\t`NO`\t\t\tINTEGER, \n",
    "\t`SYSTEM PERIOD`\t\t\tvarchar, \n",
    "\t`SERIES EPOCH`\t\t\tvarchar, \n",
    "\t`STAGE`\t\t\tvarchar, \n",
    "\t`SYMBOL`\t\t\tvarchar, \n",
    "\t`TOP`\t\t\tvarchar, \n",
    "\t`BASE`\t\t\tvarchar\n",
    ");\n",
    "\n",
    "CREATE TABLE `pr1`\n",
    " (\n",
    "\t`ROCKUNITNO`\t\t\tINTEGER, \n",
    "\t`RESULTNO`\t\t\tINTEGER, \n",
    "\t`COMPONENT`\t\t\tvarchar, \n",
    "\t`LOMAGAGE`\t\t\tINTEGER, \n",
    "\t`HIMAGAGE`\t\t\tINTEGER, \n",
    "\t`TESTS`\t\t\tvarchar, \n",
    "\t`TILT`\t\t\tINTEGER, \n",
    "\t`SLAT`\t\t\tREAL, \n",
    "\t`SLONG`\t\t\tREAL, \n",
    "\t`B`\t\t\tINTEGER, \n",
    "\t`N`\t\t\tINTEGER, \n",
    "\t`DEC`\t\t\tREAL, \n",
    "\t`INC`\t\t\tREAL, \n",
    "\t`KD`\t\t\tREAL, \n",
    "\t`ED95`\t\t\tREAL, \n",
    "\t`PLAT`\t\t\tREAL, \n",
    "\t`PLONG`\t\t\tREAL, \n",
    "\t`PTYPE`\t\t\tvarchar, \n",
    "\t`DP`\t\t\tREAL, \n",
    "\t`DM`\t\t\tREAL, \n",
    "\t`NOREVERSED`\t\t\tvarchar, \n",
    "\t`ANTIPODAL`\t\t\tREAL, \n",
    "\t`N_NORM`\t\t\tINTEGER, \n",
    "\t`D_NORM`\t\t\tREAL, \n",
    "\t`I_NORM`\t\t\tREAL, \n",
    "\t`K_NORM`\t\t\tREAL, \n",
    "\t`ED_NORM`\t\t\tREAL, \n",
    "\t`N_REV`\t\t\tINTEGER, \n",
    "\t`D_REV`\t\t\tREAL, \n",
    "\t`I_REV`\t\t\tREAL, \n",
    "\t`K_REV`\t\t\tREAL, \n",
    "\t`ED_REV`\t\t\tREAL, \n",
    "\t`DEMAGCODE`\t\t\tINTEGER, \n",
    "\t`TREATMENT`\t\t\tvarchar, \n",
    "\t`LABDETAILS`\t\t\tvarchar, \n",
    "\t`ROCKMAG`\t\t\tvarchar, \n",
    "\t`N_TILT`\t\t\tINTEGER, \n",
    "\t`D_UNCOR`\t\t\tREAL, \n",
    "\t`I_UNCOR`\t\t\tREAL, \n",
    "\t`K1`\t\t\tREAL, \n",
    "\t`ED1`\t\t\tREAL, \n",
    "\t`D_COR`\t\t\tREAL, \n",
    "\t`I_COR`\t\t\tREAL, \n",
    "\t`K2`\t\t\tREAL, \n",
    "\t`ED2`\t\t\tREAL, \n",
    "\t`COMMENTS`\t\t\tvarchar, \n",
    "\t`STATUS`\t\t\tvarchar\n",
    ");\n",
    "\n",
    "CREATE TABLE `new-paleoz`\n",
    " (\n",
    "\t`RESULTNO`\t\t\tINTEGER, \n",
    "\t`LOMAGAGE`\t\t\tINTEGER, \n",
    "\t`HIMAGAGE`\t\t\tINTEGER, \n",
    "\t`ROCKUNITNO`\t\t\tINTEGER, \n",
    "\t`PLACE`\t\t\tvarchar, \n",
    "\t`CONTINENT`\t\t\tvarchar, \n",
    "\t`REFNO`\t\t\tINTEGER, \n",
    "\t`AUTHORS`\t\t\tvarchar, \n",
    "\t`YEAR`\t\t\tINTEGER\n",
    ");\n",
    "\n",
    "CREATE TABLE `new340-260poles_gondw`\n",
    " (\n",
    "\t`RESULTNO`\t\t\tINTEGER, \n",
    "\t`COMPONENT`\t\t\tvarchar, \n",
    "\t`LOMAGAGE`\t\t\tINTEGER, \n",
    "\t`HIMAGAGE`\t\t\tINTEGER, \n",
    "\t`TESTS`\t\t\tvarchar, \n",
    "\t`TILT`\t\t\tINTEGER, \n",
    "\t`SLONG`\t\t\tREAL, \n",
    "\t`B`\t\t\tINTEGER, \n",
    "\t`DEC`\t\t\tREAL, \n",
    "\t`INC`\t\t\tREAL, \n",
    "\t`KD`\t\t\tREAL, \n",
    "\t`ED95`\t\t\tREAL, \n",
    "\t`PLAT`\t\t\tREAL, \n",
    "\t`PLONG`\t\t\tREAL, \n",
    "\t`DP`\t\t\tREAL, \n",
    "\t`DM`\t\t\tREAL, \n",
    "\t`NOREVERSED`\t\t\tvarchar, \n",
    "\t`DEMAGCODE`\t\t\tINTEGER, \n",
    "\t`TREATMENT`\t\t\tvarchar, \n",
    "\t`COMMENTS`\t\t\tvarchar, \n",
    "\t`ROCKUNITNO`\t\t\tINTEGER, \n",
    "\t`ROCKNAME`\t\t\tvarchar, \n",
    "\t`PLACE`\t\t\tvarchar, \n",
    "\t`CONTINENT`\t\t\tvarchar, \n",
    "\t`ROCKTYPE`\t\t\tvarchar, \n",
    "\t`STRATA`\t\t\tvarchar, \n",
    "\t`STRATAGE`\t\t\tvarchar, \n",
    "\t`LOWAGE`\t\t\tINTEGER, \n",
    "\t`HIGHAGE`\t\t\tINTEGER, \n",
    "\t`METHOD`\t\t\tvarchar, \n",
    "\t`ISOTOPEDATA`\t\t\tvarchar, \n",
    "\t`STRUCTURE`\t\t\tvarchar, \n",
    "\t`REFNO`\t\t\tINTEGER, \n",
    "\t`AUTHORS`\t\t\tvarchar, \n",
    "\t`YEAR`\t\t\tINTEGER, \n",
    "\t`JOURNAL`\t\t\tvarchar, \n",
    "\t`VOLUME`\t\t\tvarchar, \n",
    "\t`VPAGES`\t\t\tvarchar\n",
    ");\n",
    "\n",
    "CREATE TABLE `poles2009a`\n",
    " (\n",
    "\t`RESULTNO`\t\t\tINTEGER, \n",
    "\t`COMPONENT`\t\t\tvarchar, \n",
    "\t`LOMAGAGE`\t\t\tINTEGER, \n",
    "\t`HIMAGAGE`\t\t\tINTEGER, \n",
    "\t`TESTS`\t\t\tvarchar, \n",
    "\t`TILT`\t\t\tINTEGER, \n",
    "\t`SLAT`\t\t\tREAL, \n",
    "\t`SLONG`\t\t\tREAL, \n",
    "\t`B`\t\t\tINTEGER, \n",
    "\t`N`\t\t\tINTEGER, \n",
    "\t`DEC`\t\t\tREAL, \n",
    "\t`INC`\t\t\tREAL, \n",
    "\t`KD`\t\t\tREAL, \n",
    "\t`ED95`\t\t\tREAL, \n",
    "\t`PLAT`\t\t\tREAL, \n",
    "\t`PLONG`\t\t\tREAL, \n",
    "\t`DP`\t\t\tREAL, \n",
    "\t`DM`\t\t\tREAL, \n",
    "\t`NOREVERSED`\t\t\tvarchar, \n",
    "\t`DEMAGCODE`\t\t\tINTEGER, \n",
    "\t`TREATMENT`\t\t\tvarchar, \n",
    "\t`LABDETAILS`\t\t\tvarchar, \n",
    "\t`ROCKMAG`\t\t\tvarchar, \n",
    "\t`COMMENTS`\t\t\tvarchar, \n",
    "\t`PMAGRESULT_STATUS`\t\t\tvarchar, \n",
    "\t`ROCKUNITNO`\t\t\tINTEGER, \n",
    "\t`ROCKNAME`\t\t\tvarchar, \n",
    "\t`PLACE`\t\t\tvarchar, \n",
    "\t`CONTINENT`\t\t\tvarchar, \n",
    "\t`TERRANE`\t\t\tvarchar, \n",
    "\t`ROCKTYPE`\t\t\tvarchar, \n",
    "\t`STRATA`\t\t\tvarchar, \n",
    "\t`STRATAGE`\t\t\tvarchar, \n",
    "\t`LOWAGE`\t\t\tINTEGER, \n",
    "\t`HIGHAGE`\t\t\tINTEGER, \n",
    "\t`METHOD`\t\t\tvarchar, \n",
    "\t`ISOTOPEDATA`\t\t\tvarchar, \n",
    "\t`STRUCTURE`\t\t\tvarchar, \n",
    "\t`ROCKUNIT_STATUS`\t\t\tvarchar, \n",
    "\t`REFNO`\t\t\tINTEGER, \n",
    "\t`AUTHORS`\t\t\tvarchar, \n",
    "\t`YEAR`\t\t\tINTEGER, \n",
    "\t`JOURNAL`\t\t\tvarchar, \n",
    "\t`VOLUME`\t\t\tvarchar, \n",
    "\t`VPAGES`\t\t\tvarchar, \n",
    "\t`TITLE`\t\t\tvarchar\n",
    ");\n",
    "\n",
    "CREATE TABLE `McElhinny`\n",
    " (\n",
    "\t`AUTHORS`\t\t\tvarchar, \n",
    "\t`RESULTNO`\t\t\tINTEGER, \n",
    "\t`REFNO`\t\t\tINTEGER\n",
    ");\n",
    "\n",
    "\n",
    "-- CREATE Relationships ...\n",
    "ALTER TABLE `PMAGRESULT` ADD CONSTRAINT `PMAGRESULT_ROCKUNITNO_fk` FOREIGN KEY (`ROCKUNITNO`) REFERENCES `ROCKUNIT`(`ROCKUNITNO`);\n",
    "ALTER TABLE `ROCKUNIT` ADD CONSTRAINT `ROCKUNIT_REFNO_fk` FOREIGN KEY (`REFNO`) REFERENCES `REFERENCE`(`REFNO`);\n",
    "ALTER TABLE `MSysNavPaneGroups` ADD CONSTRAINT `MSysNavPaneGroups_GroupCategoryID_fk` FOREIGN KEY (`GroupCategoryID`) REFERENCES `MSysNavPaneGroupCategories`(`Id`) ON UPDATE CASCADE ON DELETE CASCADE;"
   ]
  },
  {
   "cell_type": "code",
   "execution_count": 5,
   "metadata": {},
   "outputs": [
    {
     "name": "stdout",
     "output_type": "stream",
     "text": [
      "Error: database is locked\r\n"
     ]
    }
   ],
   "source": [
    ".save /mnt/g/Desktop/git/public/Paleomagnetic_Data_from_Chinese_Literature/PMDBcn.db"
   ]
  },
  {
   "cell_type": "code",
   "execution_count": 4,
   "metadata": {},
   "outputs": [
    {
     "name": "stdout",
     "output_type": "stream",
     "text": [
      "Restarting SQLite3"
     ]
    }
   ],
   "source": [
    ".quit"
   ]
  },
  {
   "cell_type": "code",
   "execution_count": 3,
   "metadata": {},
   "outputs": [
    {
     "name": "stdout",
     "output_type": "stream",
     "text": []
    }
   ],
   "source": [
    "SELECT * FROM PMAGRESULT;"
   ]
  },
  {
   "cell_type": "markdown",
   "metadata": {},
   "source": [
    "# Convert MS Access GPMDB Database \"GD20xx.MDB\" to SQLite Database"
   ]
  },
  {
   "cell_type": "code",
   "execution_count": null,
   "metadata": {},
   "outputs": [],
   "source": [
    "%%bash\n",
    "./mdb2sql.sh GD2016a.MDB GD2016a.sql\n",
    "sqlite3 GD2016a.db < GD2016a.sql"
   ]
  },
  {
   "cell_type": "code",
   "execution_count": 1,
   "metadata": {},
   "outputs": [
    {
     "name": "stdout",
     "output_type": "stream",
     "text": []
    }
   ],
   "source": [
    ".headers ON"
   ]
  },
  {
   "cell_type": "code",
   "execution_count": 2,
   "metadata": {},
   "outputs": [
    {
     "name": "stdout",
     "output_type": "stream",
     "text": []
    }
   ],
   "source": [
    ".open /tmp/GD2016a.db"
   ]
  },
  {
   "cell_type": "code",
   "execution_count": 3,
   "metadata": {},
   "outputs": [
    {
     "name": "stdout",
     "output_type": "stream",
     "text": [
      "ALTRESULT              McElhinny              Young_plumes         \r\n",
      "CONTINENTS             PMAGRESULT             lips_older180        \r\n",
      "COUNTRY                REFERENCE              new-paleoz           \r\n",
      "CROSSREF               ROCKUNIT               new340-260poles_gondw\r\n",
      "Character              SUMMARY                poles2009a           \r\n",
      "FIELDTESTS             TERRANE                pr1                  \r\n",
      "INFORMATION            TIMESCALE            \r\n",
      "JOURNAL                VERSION              \r\n"
     ]
    }
   ],
   "source": [
    ".tables"
   ]
  },
  {
   "cell_type": "code",
   "execution_count": 4,
   "metadata": {},
   "outputs": [
    {
     "name": "stdout",
     "output_type": "stream",
     "text": [
      "COUNT(*)\r\n",
      "9514\r\n"
     ]
    }
   ],
   "source": [
    "SELECT COUNT(*) FROM PMAGRESULT"
   ]
  },
  {
   "cell_type": "code",
   "execution_count": 11,
   "metadata": {},
   "outputs": [
    {
     "name": "stdout",
     "output_type": "stream",
     "text": [
      "count(*)\r\n",
      "9514\r\n"
     ]
    }
   ],
   "source": [
    "SELECT count(*)\n",
    "  FROM PMAGRESULT\n",
    "  LEFT JOIN ALTRESULT ON ALTRESULT.RESULTNO = PMAGRESULT.RESULTNO\n",
    "  LEFT JOIN ROCKUNIT ON ROCKUNIT.ROCKUNITNO = PMAGRESULT.ROCKUNITNO\n",
    "  LEFT JOIN REFERENCE ON REFERENCE.REFNO = ROCKUNIT.REFNO\n",
    "ORDER BY PMAGRESULT.RESULTNO;"
   ]
  },
  {
   "cell_type": "code",
   "execution_count": null,
   "metadata": {},
   "outputs": [],
   "source": [
    "%%bash\n",
    "sqlite3 -header -csv /tmp/GD2016a.db \\\n",
    "  \"SELECT * FROM PMAGRESULT LEFT JOIN ALTRESULT ON ALTRESULT.RESULTNO = PMAGRESULT.RESULTNO LEFT JOIN ROCKUNIT ON ROCKUNIT.ROCKUNITNO = PMAGRESULT.ROCKUNITNO LEFT JOIN REFERENCE ON REFERENCE.REFNO = ROCKUNIT.REFNO ORDER BY PMAGRESULT.RESULTNO;\" \\\n",
    "  -separator \"(Control+V, followed by Tab)\" > /tmp/out.csv\n",
    "#1. For QGIS separator comma (without -separator option) is actually more direct\n",
    "#2. Note that if number of lines > the above count(*), probably there is \"\\n\" in some text column, like AUTHORS.\n",
    "#   If this happens, use /^[a-zA-Z] regex to find bug lines"
   ]
  }
 ],
 "metadata": {
  "kernelspec": {
   "display_name": "Sqlite3",
   "language": "sqlite3",
   "name": "sqlite3"
  },
  "language_info": {
   "codemirror_mode": "sql",
   "file_extension": ".sql",
   "mimetype": "text/x-sql",
   "name": "sqlite3"
  }
 },
 "nbformat": 4,
 "nbformat_minor": 2
}
